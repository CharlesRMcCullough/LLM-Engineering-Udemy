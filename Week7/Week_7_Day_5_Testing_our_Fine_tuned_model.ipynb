{
 "nbformat": 4,
 "nbformat_minor": 0,
 "metadata": {
  "colab": {
   "provenance": [],
   "gpuType": "T4"
  },
  "kernelspec": {
   "name": "python3",
   "display_name": "Python 3 (ipykernel)",
   "language": "python"
  },
  "language_info": {
   "name": "python"
  },
  "accelerator": "GPU"
 },
 "cells": [
  {
   "cell_type": "markdown",
   "source": [
    "\n",
    "\n",
    "## Predict Product Prices\n",
    "\n",
    "### And now, to evaluate our fine-tuned open source model\n",
    "\n"
   ],
   "metadata": {
    "id": "GHsssBgWM_l0"
   }
  },
  {
   "cell_type": "code",
   "source": [
    "# pip installs\n",
    "\n",
    "# !pip install -q datasets==2.21.0 peft requests torch bitsandbytes transformers==4.43.1 trl accelerate sentencepiece matplotlib"
   ],
   "metadata": {
    "id": "MDyR63OTNUJ6"
   },
   "execution_count": null,
   "outputs": []
  },
  {
   "cell_type": "code",
   "source": [
    "# imports\n",
    "\n",
    "import os\n",
    "import re\n",
    "import math\n",
    "from dotenv import load_dotenv\n",
    "from tqdm import tqdm\n",
    "#from google.colab import userdata\n",
    "from huggingface_hub import login\n",
    "import torch\n",
    "import torch.nn.functional as F\n",
    "import transformers\n",
    "from transformers import AutoModelForCausalLM, AutoTokenizer, BitsAndBytesConfig, set_seed\n",
    "from datasets import load_dataset, Dataset, DatasetDict\n",
    "from datetime import datetime\n",
    "from peft import PeftModel\n",
    "import matplotlib.pyplot as plt"
   ],
   "metadata": {
    "id": "-yikV8pRBer9",
    "ExecuteTime": {
     "end_time": "2024-12-16T15:24:19.783698Z",
     "start_time": "2024-12-16T15:24:18.205924Z"
    }
   },
   "outputs": [],
   "execution_count": 1
  },
  {
   "metadata": {
    "ExecuteTime": {
     "end_time": "2024-12-16T15:24:34.419940Z",
     "start_time": "2024-12-16T15:24:34.412089Z"
    }
   },
   "cell_type": "code",
   "source": "load_dotenv()",
   "outputs": [
    {
     "data": {
      "text/plain": [
       "True"
      ]
     },
     "execution_count": 2,
     "metadata": {},
     "output_type": "execute_result"
    }
   ],
   "execution_count": 2
  },
  {
   "metadata": {
    "ExecuteTime": {
     "end_time": "2024-12-16T15:24:36.100609Z",
     "start_time": "2024-12-16T15:24:36.083885Z"
    }
   },
   "cell_type": "code",
   "source": [
    "device = torch.device(\"cuda\" if torch.cuda.is_available() else \"cpu\")\n",
    "print(device)"
   ],
   "outputs": [
    {
     "name": "stdout",
     "output_type": "stream",
     "text": [
      "cuda\n"
     ]
    }
   ],
   "execution_count": 3
  },
  {
   "cell_type": "code",
   "source": [
    "# Constants\n",
    "\n",
    "BASE_MODEL = \"meta-llama/Meta-Llama-3.1-8B\"\n",
    "PROJECT_NAME = \"Pricer\"\n",
    "HF_USER = \"CharlesMac\" # your HF name here! Or use mine if you just want to reproduce my results.\n",
    "\n",
    "# The run itself\n",
    "\n",
    "RUN_NAME = \"Pricer-2024-12-13_17.18.57\"\n",
    "PROJECT_RUN_NAME = \"Pricer-2024-12-13_17.18.57\"\n",
    "REVISION = None\n",
    "FINETUNED_MODEL = f\"{HF_USER}/{PROJECT_RUN_NAME}\"\n",
    "\n",
    "# Uncomment this line if you wish to use my model\n",
    "# FINETUNED_MODEL = f\"ed-donner/{PROJECT_RUN_NAME}\"\n",
    "\n",
    "# Data\n",
    "\n",
    "DATASET_NAME = f\"CharlesMac/lite-data\"\n",
    "# Or just use the one I've uploaded\n",
    "# DATASET_NAME = \"ed-donner/pricer-data\"\n",
    "\n",
    "# Hyperparameters for QLoRA\n",
    "\n",
    "QUANT_4_BIT = True\n",
    "\n",
    "%matplotlib inline\n",
    "\n",
    "# Used for writing to output in color\n",
    "\n",
    "GREEN = \"\\033[92m\"\n",
    "YELLOW = \"\\033[93m\"\n",
    "RED = \"\\033[91m\"\n",
    "RESET = \"\\033[0m\"\n",
    "COLOR_MAP = {\"red\":RED, \"orange\": YELLOW, \"green\": GREEN}"
   ],
   "metadata": {
    "id": "uuTX-xonNeOK",
    "ExecuteTime": {
     "end_time": "2024-12-16T15:30:25.100508Z",
     "start_time": "2024-12-16T15:30:25.097646Z"
    }
   },
   "outputs": [],
   "execution_count": 12
  },
  {
   "cell_type": "markdown",
   "source": [
    "### Log in to HuggingFace\n",
    "\n",
    "If you don't already have a HuggingFace account, visit https://huggingface.co to sign up and create a token.\n",
    "\n",
    "Then select the Secrets for this Notebook by clicking on the key icon in the left, and add a new secret called `HF_TOKEN` with the value as your token.\n"
   ],
   "metadata": {
    "id": "8JArT3QAQAjx"
   }
  },
  {
   "cell_type": "code",
   "source": [
    "# Log in to HuggingFace\n",
    "\n",
    "hf_token = os.environ['HF_TOKEN']\n",
    "login(hf_token, add_to_git_credential=True)"
   ],
   "metadata": {
    "id": "WyFPZeMcM88v",
    "ExecuteTime": {
     "end_time": "2024-12-16T15:24:52.314323Z",
     "start_time": "2024-12-16T15:24:52.218739Z"
    }
   },
   "outputs": [
    {
     "name": "stderr",
     "output_type": "stream",
     "text": [
      "Note: Environment variable`HF_TOKEN` is set and is the current active token independently from the token you've just configured.\n"
     ]
    }
   ],
   "execution_count": 6
  },
  {
   "cell_type": "code",
   "source": [
    "dataset = load_dataset(DATASET_NAME)\n",
    "train = dataset['train']\n",
    "test = dataset['test']"
   ],
   "metadata": {
    "id": "cvXVoJH8LS6u",
    "ExecuteTime": {
     "end_time": "2024-12-16T15:27:04.325960Z",
     "start_time": "2024-12-16T15:27:02.327332Z"
    }
   },
   "outputs": [],
   "execution_count": 9
  },
  {
   "cell_type": "code",
   "source": [
    "test[0]"
   ],
   "metadata": {
    "id": "xb86e__Wc7j_"
   },
   "execution_count": null,
   "outputs": []
  },
  {
   "cell_type": "markdown",
   "source": [
    "## Now load the Tokenizer and Model"
   ],
   "metadata": {
    "id": "qJWQ0a3wZ0Bw"
   }
  },
  {
   "cell_type": "code",
   "source": [
    "# pick the right quantization\n",
    "\n",
    "if QUANT_4_BIT:\n",
    "  quant_config = BitsAndBytesConfig(\n",
    "    load_in_4bit=True,\n",
    "    bnb_4bit_use_double_quant=True,\n",
    "    bnb_4bit_compute_dtype=torch.bfloat16,\n",
    "    bnb_4bit_quant_type=\"nf4\"\n",
    "  )\n",
    "else:\n",
    "  bnb_config = BitsAndBytesConfig(\n",
    "    load_in_8bit=True,\n",
    "    bnb_8bit_compute_dtype=torch.bfloat16\n",
    "  )"
   ],
   "metadata": {
    "id": "lAUAAcEC6ido",
    "ExecuteTime": {
     "end_time": "2024-12-16T15:27:07.511098Z",
     "start_time": "2024-12-16T15:27:07.509239Z"
    }
   },
   "outputs": [],
   "execution_count": 10
  },
  {
   "cell_type": "code",
   "source": [
    "# Load the Tokenizer and the Model\n",
    "\n",
    "tokenizer = AutoTokenizer.from_pretrained(BASE_MODEL, trust_remote_code=True)\n",
    "tokenizer.pad_token = tokenizer.eos_token\n",
    "tokenizer.padding_side = \"right\"\n",
    "\n",
    "base_model = AutoModelForCausalLM.from_pretrained(\n",
    "    BASE_MODEL,\n",
    "    quantization_config=quant_config,\n",
    "    device_map=\"auto\",\n",
    ")\n",
    "base_model.generation_config.pad_token_id = tokenizer.pad_token_id\n",
    "\n",
    "# Load the fine-tuned model with PEFT\n",
    "if REVISION:\n",
    "  fine_tuned_model = PeftModel.from_pretrained(base_model, FINETUNED_MODEL, revision=REVISION)\n",
    "else:\n",
    "  fine_tuned_model = PeftModel.from_pretrained(base_model, FINETUNED_MODEL)\n",
    "\n",
    "\n",
    "print(f\"Memory footprint: {fine_tuned_model.get_memory_footprint() / 1e6:.1f} MB\")"
   ],
   "metadata": {
    "id": "R_O04fKxMMT-",
    "ExecuteTime": {
     "end_time": "2024-12-16T15:30:40.258863Z",
     "start_time": "2024-12-16T15:30:32.977641Z"
    }
   },
   "outputs": [
    {
     "data": {
      "text/plain": [
       "Loading checkpoint shards:   0%|          | 0/4 [00:00<?, ?it/s]"
      ],
      "application/vnd.jupyter.widget-view+json": {
       "version_major": 2,
       "version_minor": 0,
       "model_id": "d14dc27e812845eab5765a78fc98490d"
      }
     },
     "metadata": {},
     "output_type": "display_data"
    },
    {
     "data": {
      "text/plain": [
       "adapter_config.json:   0%|          | 0.00/752 [00:00<?, ?B/s]"
      ],
      "application/vnd.jupyter.widget-view+json": {
       "version_major": 2,
       "version_minor": 0,
       "model_id": "1218a996e67c4434b684dae275e95db8"
      }
     },
     "metadata": {},
     "output_type": "display_data"
    },
    {
     "data": {
      "text/plain": [
       "adapter_model.safetensors:   0%|          | 0.00/109M [00:00<?, ?B/s]"
      ],
      "application/vnd.jupyter.widget-view+json": {
       "version_major": 2,
       "version_minor": 0,
       "model_id": "541088fd88fe4531a651f94caba73be4"
      }
     },
     "metadata": {},
     "output_type": "display_data"
    },
    {
     "name": "stdout",
     "output_type": "stream",
     "text": [
      "Memory footprint: 5700.6 MB\n"
     ]
    }
   ],
   "execution_count": 13
  },
  {
   "cell_type": "code",
   "source": [
    "fine_tuned_model"
   ],
   "metadata": {
    "id": "kD-GJtbrdd5t",
    "ExecuteTime": {
     "end_time": "2024-12-16T15:35:25.131682Z",
     "start_time": "2024-12-16T15:35:25.127008Z"
    }
   },
   "outputs": [
    {
     "data": {
      "text/plain": [
       "PeftModelForCausalLM(\n",
       "  (base_model): LoraModel(\n",
       "    (model): LlamaForCausalLM(\n",
       "      (model): LlamaModel(\n",
       "        (embed_tokens): Embedding(128256, 4096)\n",
       "        (layers): ModuleList(\n",
       "          (0-31): 32 x LlamaDecoderLayer(\n",
       "            (self_attn): LlamaSdpaAttention(\n",
       "              (q_proj): lora.Linear4bit(\n",
       "                (base_layer): Linear4bit(in_features=4096, out_features=4096, bias=False)\n",
       "                (lora_dropout): ModuleDict(\n",
       "                  (default): Dropout(p=0.1, inplace=False)\n",
       "                )\n",
       "                (lora_A): ModuleDict(\n",
       "                  (default): Linear(in_features=4096, out_features=32, bias=False)\n",
       "                )\n",
       "                (lora_B): ModuleDict(\n",
       "                  (default): Linear(in_features=32, out_features=4096, bias=False)\n",
       "                )\n",
       "                (lora_embedding_A): ParameterDict()\n",
       "                (lora_embedding_B): ParameterDict()\n",
       "                (lora_magnitude_vector): ModuleDict()\n",
       "              )\n",
       "              (k_proj): lora.Linear4bit(\n",
       "                (base_layer): Linear4bit(in_features=4096, out_features=1024, bias=False)\n",
       "                (lora_dropout): ModuleDict(\n",
       "                  (default): Dropout(p=0.1, inplace=False)\n",
       "                )\n",
       "                (lora_A): ModuleDict(\n",
       "                  (default): Linear(in_features=4096, out_features=32, bias=False)\n",
       "                )\n",
       "                (lora_B): ModuleDict(\n",
       "                  (default): Linear(in_features=32, out_features=1024, bias=False)\n",
       "                )\n",
       "                (lora_embedding_A): ParameterDict()\n",
       "                (lora_embedding_B): ParameterDict()\n",
       "                (lora_magnitude_vector): ModuleDict()\n",
       "              )\n",
       "              (v_proj): lora.Linear4bit(\n",
       "                (base_layer): Linear4bit(in_features=4096, out_features=1024, bias=False)\n",
       "                (lora_dropout): ModuleDict(\n",
       "                  (default): Dropout(p=0.1, inplace=False)\n",
       "                )\n",
       "                (lora_A): ModuleDict(\n",
       "                  (default): Linear(in_features=4096, out_features=32, bias=False)\n",
       "                )\n",
       "                (lora_B): ModuleDict(\n",
       "                  (default): Linear(in_features=32, out_features=1024, bias=False)\n",
       "                )\n",
       "                (lora_embedding_A): ParameterDict()\n",
       "                (lora_embedding_B): ParameterDict()\n",
       "                (lora_magnitude_vector): ModuleDict()\n",
       "              )\n",
       "              (o_proj): lora.Linear4bit(\n",
       "                (base_layer): Linear4bit(in_features=4096, out_features=4096, bias=False)\n",
       "                (lora_dropout): ModuleDict(\n",
       "                  (default): Dropout(p=0.1, inplace=False)\n",
       "                )\n",
       "                (lora_A): ModuleDict(\n",
       "                  (default): Linear(in_features=4096, out_features=32, bias=False)\n",
       "                )\n",
       "                (lora_B): ModuleDict(\n",
       "                  (default): Linear(in_features=32, out_features=4096, bias=False)\n",
       "                )\n",
       "                (lora_embedding_A): ParameterDict()\n",
       "                (lora_embedding_B): ParameterDict()\n",
       "                (lora_magnitude_vector): ModuleDict()\n",
       "              )\n",
       "              (rotary_emb): LlamaRotaryEmbedding()\n",
       "            )\n",
       "            (mlp): LlamaMLP(\n",
       "              (gate_proj): Linear4bit(in_features=4096, out_features=14336, bias=False)\n",
       "              (up_proj): Linear4bit(in_features=4096, out_features=14336, bias=False)\n",
       "              (down_proj): Linear4bit(in_features=14336, out_features=4096, bias=False)\n",
       "              (act_fn): SiLU()\n",
       "            )\n",
       "            (input_layernorm): LlamaRMSNorm((4096,), eps=1e-05)\n",
       "            (post_attention_layernorm): LlamaRMSNorm((4096,), eps=1e-05)\n",
       "          )\n",
       "        )\n",
       "        (norm): LlamaRMSNorm((4096,), eps=1e-05)\n",
       "        (rotary_emb): LlamaRotaryEmbedding()\n",
       "      )\n",
       "      (lm_head): Linear(in_features=4096, out_features=128256, bias=False)\n",
       "    )\n",
       "  )\n",
       ")"
      ]
     },
     "execution_count": 20,
     "metadata": {},
     "output_type": "execute_result"
    }
   ],
   "execution_count": 20
  },
  {
   "cell_type": "markdown",
   "source": [
    "# THE MOMENT OF TRUTH!\n",
    "\n",
    "## Use the model in inference mode\n",
    "\n",
    "Remember, GPT-4o had an average error of \\$76.  \n",
    "Llama 3.1 base model had an average error of \\$396.   \n",
    "This human had an error of \\$127.  \n",
    "\n",
    "## Caveat\n",
    "\n",
    "Keep in mind that prices of goods vary considerably; the model can't predict things like sale prices that it doesn't have any information about."
   ],
   "metadata": {
    "id": "UObo1-RqaNnT"
   }
  },
  {
   "cell_type": "code",
   "source": [
    "def extract_price(s):\n",
    "    if \"Price is $\" in s:\n",
    "      contents = s.split(\"Price is $\")[1]\n",
    "      contents = contents.replace(',','')\n",
    "      match = re.search(r\"[-+]?\\d*\\.\\d+|\\d+\", contents)\n",
    "      return float(match.group()) if match else 0\n",
    "    return 0"
   ],
   "metadata": {
    "id": "Qst1LhBVAB04",
    "ExecuteTime": {
     "end_time": "2024-12-16T15:30:46.223469Z",
     "start_time": "2024-12-16T15:30:46.220476Z"
    }
   },
   "outputs": [],
   "execution_count": 14
  },
  {
   "cell_type": "code",
   "source": [
    "extract_price(\"Price is $a fabulous 899.99 or so\")"
   ],
   "metadata": {
    "id": "jXFBW_5UeEcp",
    "ExecuteTime": {
     "end_time": "2024-12-16T15:30:48.134146Z",
     "start_time": "2024-12-16T15:30:48.132212Z"
    }
   },
   "outputs": [
    {
     "data": {
      "text/plain": [
       "899.99"
      ]
     },
     "execution_count": 15,
     "metadata": {},
     "output_type": "execute_result"
    }
   ],
   "execution_count": 15
  },
  {
   "cell_type": "code",
   "source": [
    "# Original prediction function takes the most likely next token\n",
    "\n",
    "def model_predict(prompt):\n",
    "    set_seed(42)\n",
    "    inputs = tokenizer.encode(prompt, return_tensors=\"pt\").to(\"cuda\")\n",
    "    attention_mask = torch.ones(inputs.shape, device=\"cuda\")\n",
    "    outputs = fine_tuned_model.generate(inputs, attention_mask=attention_mask, max_new_tokens=3, num_return_sequences=1)\n",
    "    response = tokenizer.decode(outputs[0])\n",
    "    return extract_price(response)"
   ],
   "metadata": {
    "id": "Oj_PzpdFAIMk",
    "ExecuteTime": {
     "end_time": "2024-12-16T15:30:51.225185Z",
     "start_time": "2024-12-16T15:30:51.223251Z"
    }
   },
   "outputs": [],
   "execution_count": 16
  },
  {
   "cell_type": "code",
   "source": [
    "# An improved prediction function takes a weighted average of the top 3 choices\n",
    "# This code would be more complex if we couldn't take advantage of the fact\n",
    "# That Llama generates 1 token for any 3 digit number\n",
    "\n",
    "top_K = 3\n",
    "\n",
    "def improved_model_predict(prompt, device=\"cuda\"):\n",
    "    set_seed(42)\n",
    "    inputs = tokenizer.encode(prompt, return_tensors=\"pt\").to(device)\n",
    "    attention_mask = torch.ones(inputs.shape, device=device)\n",
    "\n",
    "    with torch.no_grad():\n",
    "        outputs = fine_tuned_model(inputs, attention_mask=attention_mask)\n",
    "        next_token_logits = outputs.logits[:, -1, :].to('cpu')\n",
    "\n",
    "    next_token_probs = F.softmax(next_token_logits, dim=-1)\n",
    "    top_prob, top_token_id = next_token_probs.topk(top_K)\n",
    "    prices, weights = [], []\n",
    "    for i in range(top_K):\n",
    "      predicted_token = tokenizer.decode(top_token_id[0][i])\n",
    "      probability = top_prob[0][i]\n",
    "      try:\n",
    "        result = float(predicted_token)\n",
    "      except ValueError as e:\n",
    "        result = 0.0\n",
    "      if result > 0:\n",
    "        prices.append(result)\n",
    "        weights.append(probability)\n",
    "    if not prices:\n",
    "      return 0.0, 0.0\n",
    "    total = sum(weights)\n",
    "    weighted_prices = [price * weight / total for price, weight in zip(prices, weights)]\n",
    "    return sum(weighted_prices).item()"
   ],
   "metadata": {
    "id": "Je5dR8QEAI1d",
    "ExecuteTime": {
     "end_time": "2024-12-16T15:30:54.384782Z",
     "start_time": "2024-12-16T15:30:54.382096Z"
    }
   },
   "outputs": [],
   "execution_count": 17
  },
  {
   "cell_type": "code",
   "source": [],
   "metadata": {
    "id": "lQk7jNlm1oV9"
   },
   "execution_count": null,
   "outputs": []
  },
  {
   "cell_type": "code",
   "source": [
    "class Tester:\n",
    "\n",
    "    def __init__(self, predictor, data, title=None, size=250):\n",
    "        self.predictor = predictor\n",
    "        self.data = data\n",
    "        self.title = title or predictor.__name__.replace(\"_\", \" \").title()\n",
    "        self.size = size\n",
    "        self.guesses = []\n",
    "        self.truths = []\n",
    "        self.errors = []\n",
    "        self.sles = []\n",
    "        self.colors = []\n",
    "\n",
    "    def color_for(self, error, truth):\n",
    "        if error<40 or error/truth < 0.2:\n",
    "            return \"green\"\n",
    "        elif error<80 or error/truth < 0.4:\n",
    "            return \"orange\"\n",
    "        else:\n",
    "            return \"red\"\n",
    "\n",
    "    def run_datapoint(self, i):\n",
    "        datapoint = self.data[i]\n",
    "        guess = self.predictor(datapoint[\"text\"])\n",
    "        truth = datapoint[\"price\"]\n",
    "        error = abs(guess - truth)\n",
    "        log_error = math.log(truth+1) - math.log(guess+1)\n",
    "        sle = log_error ** 2\n",
    "        color = self.color_for(error, truth)\n",
    "        title = datapoint[\"text\"].split(\"\\n\\n\")[1][:20] + \"...\"\n",
    "        self.guesses.append(guess)\n",
    "        self.truths.append(truth)\n",
    "        self.errors.append(error)\n",
    "        self.sles.append(sle)\n",
    "        self.colors.append(color)\n",
    "        print(f\"{COLOR_MAP[color]}{i+1}: Guess: ${guess:,.2f} Truth: ${truth:,.2f} Error: ${error:,.2f} SLE: {sle:,.2f} Item: {title}{RESET}\")\n",
    "\n",
    "    def chart(self, title):\n",
    "        max_error = max(self.errors)\n",
    "        plt.figure(figsize=(12, 8))\n",
    "        max_val = max(max(self.truths), max(self.guesses))\n",
    "        plt.plot([0, max_val], [0, max_val], color='deepskyblue', lw=2, alpha=0.6)\n",
    "        plt.scatter(self.truths, self.guesses, s=3, c=self.colors)\n",
    "        plt.xlabel('Ground Truth')\n",
    "        plt.ylabel('Model Estimate')\n",
    "        plt.xlim(0, max_val)\n",
    "        plt.ylim(0, max_val)\n",
    "        plt.title(title)\n",
    "        plt.show()\n",
    "\n",
    "    def report(self):\n",
    "        average_error = sum(self.errors) / self.size\n",
    "        rmsle = math.sqrt(sum(self.sles) / self.size)\n",
    "        hits = sum(1 for color in self.colors if color==\"green\")\n",
    "        title = f\"{self.title} Error=${average_error:,.2f} RMSLE={rmsle:,.2f} Hits={hits/self.size*100:.1f}%\"\n",
    "        self.chart(title)\n",
    "\n",
    "    def run(self):\n",
    "        self.error = 0\n",
    "        for i in range(self.size):\n",
    "            self.run_datapoint(i)\n",
    "        self.report()\n",
    "\n",
    "    @classmethod\n",
    "    def test(cls, function, data):\n",
    "        cls(function, data).run()"
   ],
   "metadata": {
    "id": "30lzJXBH7BcK",
    "ExecuteTime": {
     "end_time": "2024-12-16T15:30:58.555547Z",
     "start_time": "2024-12-16T15:30:58.548238Z"
    }
   },
   "outputs": [],
   "execution_count": 18
  },
  {
   "cell_type": "code",
   "source": [
    "Tester.test(improved_model_predict, test)"
   ],
   "metadata": {
    "id": "W_KcLvyt6kbb",
    "ExecuteTime": {
     "end_time": "2024-12-16T15:31:38.960938Z",
     "start_time": "2024-12-16T15:31:03.699770Z"
    }
   },
   "outputs": [
    {
     "name": "stdout",
     "output_type": "stream",
     "text": [
      "\u001B[92m1: Guess: $49.44 Truth: $65.99 Error: $16.55 SLE: 0.08 Item: Setpower Insulated P...\u001B[0m\n",
      "\u001B[92m2: Guess: $9.30 Truth: $9.68 Error: $0.38 SLE: 0.00 Item: TUAIC Refrigerator D...\u001B[0m\n",
      "\u001B[92m3: Guess: $126.56 Truth: $155.98 Error: $29.42 SLE: 0.04 Item: Kegco Secondary Regu...\u001B[0m\n",
      "\u001B[92m4: Guess: $10.34 Truth: $5.59 Error: $4.75 SLE: 0.29 Item: Refrigerator Door Sp...\u001B[0m\n",
      "\u001B[92m5: Guess: $60.12 Truth: $98.40 Error: $38.28 SLE: 0.24 Item: Ice-O-Matic Float Va...\u001B[0m\n",
      "\u001B[92m6: Guess: $34.59 Truth: $54.99 Error: $20.40 SLE: 0.21 Item: Wireless Temperature...\u001B[0m\n",
      "\u001B[92m7: Guess: $7.03 Truth: $5.71 Error: $1.32 SLE: 0.03 Item: 3Inch Thermometer Hy...\u001B[0m\n",
      "\u001B[92m8: Guess: $11.04 Truth: $9.53 Error: $1.51 SLE: 0.02 Item: GE GE Timer Knob Ass...\u001B[0m\n",
      "\u001B[92m9: Guess: $11.55 Truth: $11.24 Error: $0.31 SLE: 0.00 Item: newlifeapp Dryer Lin...\u001B[0m\n",
      "\u001B[92m10: Guess: $20.30 Truth: $12.88 Error: $7.42 SLE: 0.18 Item: Away NV350 NV351 NV3...\u001B[0m\n",
      "\u001B[93m11: Guess: $157.75 Truth: $99.99 Error: $57.76 SLE: 0.20 Item: Refrigerator Ice Mak...\u001B[0m\n",
      "\u001B[92m12: Guess: $19.22 Truth: $16.99 Error: $2.23 SLE: 0.01 Item: 2 PACKS Water Filter...\u001B[0m\n",
      "\u001B[92m13: Guess: $11.98 Truth: $12.74 Error: $0.76 SLE: 0.00 Item: STANCO METAL PROD 41...\u001B[0m\n",
      "\u001B[92m14: Guess: $7.95 Truth: $10.95 Error: $3.00 SLE: 0.08 Item: GE 6-Inch Drip Pan\n",
      "P...\u001B[0m\n",
      "\u001B[92m15: Guess: $45.03 Truth: $66.50 Error: $21.47 SLE: 0.15 Item: Edgewater Parts Drai...\u001B[0m\n",
      "\u001B[92m16: Guess: $7.00 Truth: $11.99 Error: $4.99 SLE: 0.23 Item: Elyum Size 04 Cone C...\u001B[0m\n",
      "\u001B[92m17: Guess: $51.38 Truth: $49.95 Error: $1.42 SLE: 0.00 Item: Everydrop by Whirlpo...\u001B[0m\n",
      "\u001B[92m18: Guess: $39.06 Truth: $26.92 Error: $12.14 SLE: 0.13 Item: Beverage Air Door Ga...\u001B[0m\n",
      "\u001B[92m19: Guess: $117.12 Truth: $89.98 Error: $27.14 SLE: 0.07 Item: Frigidaire Counter T...\u001B[0m\n",
      "\u001B[92m20: Guess: $35.62 Truth: $25.99 Error: $9.64 SLE: 0.09 Item: Supplying Demand Ele...\u001B[0m\n",
      "\u001B[92m21: Guess: $18.16 Truth: $17.99 Error: $0.17 SLE: 0.00 Item: 2-Pack Dryer Lint Fi...\u001B[0m\n",
      "\u001B[92m22: Guess: $17.66 Truth: $6.99 Error: $10.67 SLE: 0.72 Item: Qlear-CLWT Premium R...\u001B[0m\n",
      "\u001B[92m23: Guess: $11.96 Truth: $39.99 Error: $28.03 SLE: 1.33 Item: HUBBELL AC Plug NEMA...\u001B[0m\n",
      "\u001B[92m24: Guess: $17.11 Truth: $13.99 Error: $3.12 SLE: 0.04 Item: Refrigerator Egg Hol...\u001B[0m\n",
      "\u001B[93m25: Guess: $417.75 Truth: $339.95 Error: $77.80 SLE: 0.04 Item: ZLINE 20.5 Ducted Wa...\u001B[0m\n",
      "\u001B[92m26: Guess: $40.78 Truth: $67.99 Error: $27.21 SLE: 0.25 Item: Supplying Demand Top...\u001B[0m\n",
      "\u001B[93m27: Guess: $88.38 Truth: $139.00 Error: $50.62 SLE: 0.20 Item: Compatible Ice Maker...\u001B[0m\n",
      "\u001B[92m28: Guess: $9.89 Truth: $8.97 Error: $0.92 SLE: 0.01 Item: Blutoget 6 Louvered ...\u001B[0m\n",
      "\u001B[92m29: Guess: $27.22 Truth: $39.65 Error: $12.43 SLE: 0.13 Item: Edgewater Parts Evap...\u001B[0m\n",
      "\u001B[91m30: Guess: $326.00 Truth: $229.98 Error: $96.02 SLE: 0.12 Item: Winflo 30 In. Conver...\u001B[0m\n",
      "\u001B[92m31: Guess: $34.84 Truth: $25.80 Error: $9.04 SLE: 0.08 Item: Washer Shock Absorbe...\u001B[0m\n",
      "\u001B[92m32: Guess: $11.56 Truth: $11.99 Error: $0.43 SLE: 0.00 Item: 2 PACK AF Compatible...\u001B[0m\n",
      "\u001B[92m33: Guess: $11.73 Truth: $9.99 Error: $1.74 SLE: 0.02 Item: Poweka Refillable Co...\u001B[0m\n",
      "\u001B[92m34: Guess: $22.53 Truth: $21.99 Error: $0.54 SLE: 0.00 Item: 2-Pack Replacement f...\u001B[0m\n",
      "\u001B[92m35: Guess: $22.47 Truth: $17.90 Error: $4.57 SLE: 0.05 Item: Supco Dryer Heating ...\u001B[0m\n",
      "\u001B[92m36: Guess: $47.38 Truth: $84.00 Error: $36.62 SLE: 0.32 Item: Frymaster Common Ele...\u001B[0m\n",
      "\u001B[92m37: Guess: $13.47 Truth: $16.24 Error: $2.77 SLE: 0.03 Item: Plumb Craft 5-Foot W...\u001B[0m\n",
      "\u001B[92m38: Guess: $26.06 Truth: $23.99 Error: $2.07 SLE: 0.01 Item: Overbest Replacement...\u001B[0m\n",
      "\u001B[92m39: Guess: $12.21 Truth: $6.99 Error: $5.22 SLE: 0.25 Item: Fill 'n Brew Individ...\u001B[0m\n",
      "\u001B[92m40: Guess: $28.20 Truth: $24.99 Error: $3.21 SLE: 0.01 Item: Maytag EDR7D1 Compar...\u001B[0m\n",
      "\u001B[92m41: Guess: $11.66 Truth: $11.61 Error: $0.05 SLE: 0.00 Item: Coffee Filters - Nat...\u001B[0m\n",
      "\u001B[91m42: Guess: $424.25 Truth: $949.00 Error: $524.75 SLE: 0.65 Item: EdgeStar 20 Inch Wid...\u001B[0m\n",
      "\u001B[92m43: Guess: $45.25 Truth: $74.00 Error: $28.75 SLE: 0.23 Item: Bosch Door Lower Bin...\u001B[0m\n",
      "\u001B[92m44: Guess: $16.06 Truth: $22.05 Error: $5.99 SLE: 0.09 Item: Samsung Switch Door-...\u001B[0m\n",
      "\u001B[93m45: Guess: $214.50 Truth: $284.00 Error: $69.50 SLE: 0.08 Item: Jenn air Stove Cartr...\u001B[0m\n",
      "\u001B[92m46: Guess: $62.00 Truth: $91.78 Error: $29.78 SLE: 0.15 Item: Whole Parts Burner G...\u001B[0m\n",
      "\u001B[92m47: Guess: $27.19 Truth: $45.20 Error: $18.01 SLE: 0.24 Item: DEFLECTO SK8WF Supur...\u001B[0m\n",
      "\u001B[92m48: Guess: $8.15 Truth: $8.69 Error: $0.54 SLE: 0.00 Item: Supco RR109 Receptac...\u001B[0m\n",
      "\u001B[92m49: Guess: $15.69 Truth: $16.18 Error: $0.49 SLE: 0.00 Item: Dryer Lint Screen Fi...\u001B[0m\n",
      "\u001B[92m50: Guess: $6.84 Truth: $6.50 Error: $0.34 SLE: 0.00 Item: Replacement Light Bu...\u001B[0m\n",
      "\u001B[92m51: Guess: $20.30 Truth: $32.21 Error: $11.91 SLE: 0.20 Item: ForeverPRO Drum Ligh...\u001B[0m\n",
      "\u001B[92m52: Guess: $18.33 Truth: $15.39 Error: $2.94 SLE: 0.03 Item: Highcraft Dishwasher...\u001B[0m\n",
      "\u001B[92m53: Guess: $18.72 Truth: $17.99 Error: $0.73 SLE: 0.00 Item: and Stove Burner Dri...\u001B[0m\n",
      "\u001B[92m54: Guess: $23.20 Truth: $26.99 Error: $3.79 SLE: 0.02 Item: ReplacementBrand Com...\u001B[0m\n",
      "\u001B[92m55: Guess: $12.13 Truth: $11.99 Error: $0.14 SLE: 0.00 Item: 2-Pack 341241 Dryer ...\u001B[0m\n",
      "\u001B[92m56: Guess: $13.58 Truth: $44.46 Error: $30.88 SLE: 1.29 Item: Power Nut Kit - Comp...\u001B[0m\n",
      "\u001B[92m57: Guess: $16.06 Truth: $15.99 Error: $0.07 SLE: 0.00 Item: Stovetop Extender Ov...\u001B[0m\n",
      "\u001B[92m58: Guess: $98.25 Truth: $129.99 Error: $31.74 SLE: 0.08 Item: COSVALVE Portable Wa...\u001B[0m\n",
      "\u001B[92m59: Guess: $21.64 Truth: $24.99 Error: $3.35 SLE: 0.02 Item: AlaSou Washer Dustpr...\u001B[0m\n",
      "\u001B[92m60: Guess: $25.16 Truth: $27.38 Error: $2.22 SLE: 0.01 Item: Honeywell Pad for He...\u001B[0m\n",
      "\u001B[92m61: Guess: $16.11 Truth: $16.95 Error: $0.84 SLE: 0.00 Item: HQRP 2-Pack Wick Fil...\u001B[0m\n",
      "\u001B[92m62: Guess: $20.31 Truth: $10.82 Error: $9.49 SLE: 0.35 Item: Whirlpool Pad Washer...\u001B[0m\n",
      "\u001B[92m63: Guess: $15.91 Truth: $19.00 Error: $3.09 SLE: 0.03 Item: Durable Disposable E...\u001B[0m\n",
      "\u001B[92m64: Guess: $11.44 Truth: $12.98 Error: $1.54 SLE: 0.01 Item: Anti Vibration Pads ...\u001B[0m\n",
      "\u001B[92m65: Guess: $11.02 Truth: $16.99 Error: $5.97 SLE: 0.16 Item: Reusable K Cups for ...\u001B[0m\n",
      "\u001B[92m66: Guess: $26.45 Truth: $24.97 Error: $1.48 SLE: 0.00 Item: Apace Living Pour Ov...\u001B[0m\n",
      "\u001B[92m67: Guess: $9.98 Truth: $10.91 Error: $0.93 SLE: 0.01 Item: Kitchen Basics 101 2...\u001B[0m\n",
      "\u001B[92m68: Guess: $14.04 Truth: $14.98 Error: $0.94 SLE: 0.00 Item: Mist Water Filter Re...\u001B[0m\n",
      "\u001B[92m69: Guess: $19.12 Truth: $7.90 Error: $11.22 SLE: 0.67 Item: NEW Dryer Drum Felt ...\u001B[0m\n",
      "\u001B[92m70: Guess: $28.50 Truth: $25.75 Error: $2.75 SLE: 0.01 Item: Cobectal Dryer Drum ...\u001B[0m\n",
      "\u001B[92m71: Guess: $27.84 Truth: $41.77 Error: $13.93 SLE: 0.16 Item: Washer Shock Absorbe...\u001B[0m\n",
      "\u001B[92m72: Guess: $19.03 Truth: $20.68 Error: $1.65 SLE: 0.01 Item: Fafeicy WT2000 Digit...\u001B[0m\n",
      "\u001B[92m73: Guess: $90.94 Truth: $69.99 Error: $20.95 SLE: 0.07 Item: TJ. Clothes Dryer, 1...\u001B[0m\n",
      "\u001B[92m74: Guess: $36.31 Truth: $23.99 Error: $12.32 SLE: 0.16 Item: Suspension Support R...\u001B[0m\n",
      "\u001B[92m75: Guess: $28.59 Truth: $28.69 Error: $0.10 SLE: 0.00 Item: Supplying Demand Ele...\u001B[0m\n",
      "\u001B[92m76: Guess: $27.09 Truth: $42.00 Error: $14.91 SLE: 0.18 Item: General Electric Kno...\u001B[0m\n",
      "\u001B[93m77: Guess: $68.62 Truth: $123.57 Error: $54.94 SLE: 0.34 Item: Frigidaire Oven Door...\u001B[0m\n",
      "\u001B[92m78: Guess: $9.89 Truth: $8.99 Error: $0.90 SLE: 0.01 Item: Waytiffer Gas Burner...\u001B[0m\n",
      "\u001B[92m79: Guess: $38.09 Truth: $36.95 Error: $1.14 SLE: 0.00 Item: USA Made MSWF Compat...\u001B[0m\n",
      "\u001B[92m80: Guess: $12.14 Truth: $11.99 Error: $0.15 SLE: 0.00 Item: 2-Pack 341241 Dryer ...\u001B[0m\n",
      "\u001B[92m81: Guess: $37.97 Truth: $41.30 Error: $3.33 SLE: 0.01 Item: Washing Machine Hose...\u001B[0m\n",
      "\u001B[92m82: Guess: $18.31 Truth: $35.61 Error: $17.30 SLE: 0.41 Item: Bosch Dishwasher Doo...\u001B[0m\n",
      "\u001B[91m83: Guess: $319.50 Truth: $169.99 Error: $149.51 SLE: 0.39 Item: Broan QS3 Series Ran...\u001B[0m\n",
      "\u001B[92m84: Guess: $23.00 Truth: $19.91 Error: $3.09 SLE: 0.02 Item: Bosch Range Surface ...\u001B[0m\n",
      "\u001B[92m85: Guess: $10.78 Truth: $9.57 Error: $1.21 SLE: 0.01 Item: LONYE Oven Thermal F...\u001B[0m\n",
      "\u001B[92m86: Guess: $34.12 Truth: $29.69 Error: $4.43 SLE: 0.02 Item: Upgrade Stainless St...\u001B[0m\n",
      "\u001B[92m87: Guess: $18.05 Truth: $21.93 Error: $3.88 SLE: 0.03 Item: Supco Icemaker Contr...\u001B[0m\n",
      "\u001B[92m88: Guess: $25.02 Truth: $32.56 Error: $7.54 SLE: 0.06 Item: Evaporator Fan Motor...\u001B[0m\n",
      "\u001B[92m89: Guess: $25.97 Truth: $22.78 Error: $3.19 SLE: 0.02 Item: UPGRADE Refrigerator...\u001B[0m\n",
      "\u001B[92m90: Guess: $22.86 Truth: $24.79 Error: $1.93 SLE: 0.01 Item: Supreme Covers Porta...\u001B[0m\n",
      "\u001B[92m91: Guess: $42.75 Truth: $33.69 Error: $9.06 SLE: 0.05 Item: Frigidaire Surface B...\u001B[0m\n",
      "\u001B[92m92: Guess: $14.03 Truth: $12.99 Error: $1.04 SLE: 0.01 Item: TooCust Milk Frothin...\u001B[0m\n",
      "\u001B[92m93: Guess: $10.68 Truth: $12.99 Error: $2.31 SLE: 0.03 Item: Premium Vials 38 x 2...\u001B[0m\n",
      "\u001B[92m94: Guess: $10.77 Truth: $10.98 Error: $0.21 SLE: 0.00 Item: Washer Door Lid Swit...\u001B[0m\n",
      "\u001B[92m95: Guess: $20.73 Truth: $26.44 Error: $5.71 SLE: 0.05 Item: Aqua Fresh Replaceme...\u001B[0m\n",
      "\u001B[92m96: Guess: $14.73 Truth: $16.99 Error: $2.26 SLE: 0.02 Item: InterDesign Covered ...\u001B[0m\n",
      "\u001B[92m97: Guess: $25.00 Truth: $25.25 Error: $0.25 SLE: 0.00 Item: Upgrade Gas Range Ov...\u001B[0m\n",
      "\u001B[92m98: Guess: $11.89 Truth: $11.88 Error: $0.01 SLE: 0.00 Item: Washing Machine Inne...\u001B[0m\n",
      "\u001B[92m99: Guess: $19.12 Truth: $28.99 Error: $9.86 SLE: 0.16 Item: Maxmartt 100mm Vent ...\u001B[0m\n",
      "\u001B[92m100: Guess: $18.03 Truth: $23.12 Error: $5.09 SLE: 0.06 Item: Upgraded Lifetime Ap...\u001B[0m\n",
      "\u001B[92m101: Guess: $39.00 Truth: $52.97 Error: $13.97 SLE: 0.09 Item: Whirlpool Sensor for...\u001B[0m\n",
      "\u001B[92m102: Guess: $31.50 Truth: $25.99 Error: $5.51 SLE: 0.03 Item: Wintact Digital Temp...\u001B[0m\n",
      "\u001B[92m103: Guess: $18.72 Truth: $17.99 Error: $0.73 SLE: 0.00 Item: BOTNA Range Hood Gre...\u001B[0m\n",
      "\u001B[92m104: Guess: $9.09 Truth: $7.99 Error: $1.10 SLE: 0.01 Item: Milk Frothing Pitche...\u001B[0m\n",
      "\u001B[92m105: Guess: $21.11 Truth: $28.99 Error: $7.88 SLE: 0.09 Item: 1040 Replacement Wic...\u001B[0m\n",
      "\u001B[92m106: Guess: $16.92 Truth: $12.07 Error: $4.85 SLE: 0.10 Item: Stanco Gas Range Dri...\u001B[0m\n",
      "\u001B[92m107: Guess: $17.09 Truth: $18.99 Error: $1.90 SLE: 0.01 Item: Dampp Chaser Piano H...\u001B[0m\n",
      "\u001B[92m108: Guess: $9.09 Truth: $9.99 Error: $0.90 SLE: 0.01 Item: Gardens Light Switch...\u001B[0m\n",
      "\u001B[92m109: Guess: $28.00 Truth: $29.99 Error: $1.99 SLE: 0.00 Item: Waterspecialist Repl...\u001B[0m\n",
      "\u001B[92m110: Guess: $12.34 Truth: $9.99 Error: $2.35 SLE: 0.04 Item: Upgraded Stove Knob,...\u001B[0m\n",
      "\u001B[92m111: Guess: $35.94 Truth: $31.69 Error: $4.25 SLE: 0.01 Item: 5-PACK Top Burner Co...\u001B[0m\n",
      "\u001B[92m112: Guess: $18.66 Truth: $24.99 Error: $6.33 SLE: 0.08 Item: Large Capacity Egg H...\u001B[0m\n",
      "\u001B[92m113: Guess: $25.98 Truth: $25.99 Error: $0.01 SLE: 0.00 Item: FireFly Home Stove T...\u001B[0m\n",
      "\u001B[92m114: Guess: $17.02 Truth: $18.99 Error: $1.97 SLE: 0.01 Item: Annbully Cartoon USB...\u001B[0m\n",
      "\u001B[92m115: Guess: $7.98 Truth: $9.99 Error: $2.01 SLE: 0.04 Item: Goldenvalueable 6 x ...\u001B[0m\n",
      "\u001B[92m116: Guess: $37.00 Truth: $22.99 Error: $14.01 SLE: 0.21 Item: Blueangle Pink Hibis...\u001B[0m\n",
      "\u001B[93m117: Guess: $221.00 Truth: $169.99 Error: $51.01 SLE: 0.07 Item: ROVSUN 13LBS Portabl...\u001B[0m\n",
      "\u001B[92m118: Guess: $43.75 Truth: $36.99 Error: $6.76 SLE: 0.03 Item: 1-Year Warranty Drye...\u001B[0m\n",
      "\u001B[92m119: Guess: $27.55 Truth: $33.99 Error: $6.44 SLE: 0.04 Item: ICEPURE Replacement ...\u001B[0m\n",
      "\u001B[93m120: Guess: $51.28 Truth: $104.89 Error: $53.61 SLE: 0.50 Item: Whirlpool Water Inle...\u001B[0m\n",
      "\u001B[92m121: Guess: $27.56 Truth: $19.98 Error: $7.58 SLE: 0.10 Item: Washing Machine Wate...\u001B[0m\n",
      "\u001B[92m122: Guess: $11.67 Truth: $9.99 Error: $1.68 SLE: 0.02 Item: Sunflowers Refrigera...\u001B[0m\n",
      "\u001B[92m123: Guess: $18.39 Truth: $28.10 Error: $9.71 SLE: 0.16 Item: General Electric Fro...\u001B[0m\n",
      "\u001B[92m124: Guess: $32.25 Truth: $27.50 Error: $4.75 SLE: 0.02 Item: Supco Refrigerator W...\u001B[0m\n",
      "\u001B[92m125: Guess: $28.12 Truth: $36.99 Error: $8.87 SLE: 0.07 Item: HASMX Dishwasher Cut...\u001B[0m\n",
      "\u001B[92m126: Guess: $28.98 Truth: $19.84 Error: $9.14 SLE: 0.13 Item: Whirlpool Range Surf...\u001B[0m\n",
      "\u001B[92m127: Guess: $26.66 Truth: $24.99 Error: $1.67 SLE: 0.00 Item: 950S - Compatible wi...\u001B[0m\n",
      "\u001B[92m128: Guess: $130.75 Truth: $169.99 Error: $39.24 SLE: 0.07 Item: WAFIET 12 Inch Gas C...\u001B[0m\n",
      "\u001B[92m129: Guess: $25.92 Truth: $19.99 Error: $5.93 SLE: 0.06 Item: Reusable Vertuo Caps...\u001B[0m\n",
      "\u001B[92m130: Guess: $19.12 Truth: $25.95 Error: $6.82 SLE: 0.09 Item: Coffee Filter Holder...\u001B[0m\n",
      "\u001B[91m131: Guess: $128.88 Truth: $39.96 Error: $88.91 SLE: 1.33 Item: Star Deflector-Burne...\u001B[0m\n",
      "\u001B[92m132: Guess: $17.28 Truth: $15.99 Error: $1.29 SLE: 0.01 Item: General Electric Ran...\u001B[0m\n",
      "\u001B[92m133: Guess: $21.59 Truth: $39.99 Error: $18.40 SLE: 0.35 Item: WiFi Temperature Sen...\u001B[0m\n",
      "\u001B[92m134: Guess: $14.59 Truth: $21.53 Error: $6.94 SLE: 0.14 Item: KITCHEN BASICS 101 1...\u001B[0m\n",
      "\u001B[92m135: Guess: $31.00 Truth: $26.99 Error: $4.01 SLE: 0.02 Item: Dryer Heating Elemen...\u001B[0m\n",
      "\u001B[92m136: Guess: $42.88 Truth: $43.99 Error: $1.12 SLE: 0.00 Item: Samsung HAF-CIN EXP ...\u001B[0m\n",
      "\u001B[92m137: Guess: $14.01 Truth: $9.41 Error: $4.60 SLE: 0.13 Item: HQRP 3-Pack Wick Fil...\u001B[0m\n",
      "\u001B[92m138: Guess: $10.38 Truth: $8.99 Error: $1.39 SLE: 0.02 Item: Reusable K Cups For ...\u001B[0m\n",
      "\u001B[92m139: Guess: $85.44 Truth: $61.51 Error: $23.93 SLE: 0.11 Item: for GE Icemaker Refr...\u001B[0m\n",
      "\u001B[93m140: Guess: $73.62 Truth: $122.30 Error: $48.67 SLE: 0.25 Item: Whirlpool Inlet Valv...\u001B[0m\n",
      "\u001B[92m141: Guess: $11.19 Truth: $14.89 Error: $3.70 SLE: 0.07 Item: 100 UNIVERSAL Round ...\u001B[0m\n",
      "\u001B[92m142: Guess: $40.09 Truth: $39.99 Error: $0.10 SLE: 0.00 Item: TRUE 811502 Nozzle a...\u001B[0m\n",
      "\u001B[92m143: Guess: $17.03 Truth: $17.90 Error: $0.87 SLE: 0.00 Item: Dianoo Espresso Stea...\u001B[0m\n",
      "\u001B[92m144: Guess: $19.23 Truth: $16.77 Error: $2.46 SLE: 0.02 Item: Air Filter Factory R...\u001B[0m\n",
      "\u001B[92m145: Guess: $27.33 Truth: $23.99 Error: $3.34 SLE: 0.02 Item: EvertechPRO Washer D...\u001B[0m\n",
      "\u001B[92m146: Guess: $49.12 Truth: $35.00 Error: $14.12 SLE: 0.11 Item: Cheftek CT1010 Porta...\u001B[0m\n",
      "\u001B[92m147: Guess: $7.88 Truth: $4.95 Error: $2.93 SLE: 0.16 Item: HQRP 4 Pin Universal...\u001B[0m\n",
      "\u001B[92m148: Guess: $14.27 Truth: $18.89 Error: $4.62 SLE: 0.07 Item: 2-Pack TSD2 Start De...\u001B[0m\n",
      "\u001B[92m149: Guess: $13.23 Truth: $8.77 Error: $4.46 SLE: 0.14 Item: Air Filter Factory R...\u001B[0m\n",
      "\u001B[92m150: Guess: $19.69 Truth: $17.22 Error: $2.47 SLE: 0.02 Item: Plumb Pak Braided Wa...\u001B[0m\n",
      "\u001B[92m151: Guess: $26.95 Truth: $20.98 Error: $5.97 SLE: 0.06 Item: Bosch Button, Silver...\u001B[0m\n",
      "\u001B[92m152: Guess: $26.34 Truth: $37.37 Error: $11.03 SLE: 0.11 Item: Siwdoy 279816 Dryer ...\u001B[0m\n",
      "\u001B[92m153: Guess: $9.14 Truth: $11.99 Error: $2.85 SLE: 0.06 Item: OUGAR8 Refrigerator ...\u001B[0m\n",
      "\u001B[93m154: Guess: $64.56 Truth: $119.95 Error: $55.39 SLE: 0.38 Item: Bosch Range Hood Fan...\u001B[0m\n",
      "\u001B[92m155: Guess: $24.50 Truth: $31.00 Error: $6.50 SLE: 0.05 Item: Replacement Filter C...\u001B[0m\n",
      "\u001B[92m156: Guess: $36.12 Truth: $31.00 Error: $5.12 SLE: 0.02 Item: Aprilaire Humidifier...\u001B[0m\n",
      "\u001B[92m157: Guess: $18.98 Truth: $7.97 Error: $11.01 SLE: 0.64 Item: Technivorm Moccamast...\u001B[0m\n",
      "\u001B[92m158: Guess: $89.06 Truth: $51.50 Error: $37.56 SLE: 0.29 Item: LG Electronics Washi...\u001B[0m\n",
      "\u001B[92m159: Guess: $35.91 Truth: $27.99 Error: $7.92 SLE: 0.06 Item: ALAZA Flower on Marb...\u001B[0m\n",
      "\u001B[93m160: Guess: $651.50 Truth: $466.24 Error: $185.26 SLE: 0.11 Item: Frigidaire 30 Inch E...\u001B[0m\n",
      "\u001B[92m161: Guess: $24.97 Truth: $50.36 Error: $25.39 SLE: 0.47 Item: General Electric Ref...\u001B[0m\n",
      "\u001B[92m162: Guess: $12.57 Truth: $19.97 Error: $7.40 SLE: 0.19 Item: Small Size Pour Over...\u001B[0m\n",
      "\u001B[92m163: Guess: $23.95 Truth: $29.95 Error: $6.00 SLE: 0.05 Item: Sealegend Dryer Vent...\u001B[0m\n",
      "\u001B[92m164: Guess: $27.78 Truth: $23.99 Error: $3.79 SLE: 0.02 Item: Waterspecialist XWF ...\u001B[0m\n",
      "\u001B[92m165: Guess: $8.99 Truth: $12.74 Error: $3.75 SLE: 0.10 Item: GARP 279816 Compatib...\u001B[0m\n",
      "\u001B[92m166: Guess: $8.09 Truth: $8.99 Error: $0.90 SLE: 0.01 Item: Premium Dishwasher B...\u001B[0m\n",
      "\u001B[92m167: Guess: $25.91 Truth: $24.99 Error: $0.92 SLE: 0.00 Item: UpStart Components R...\u001B[0m\n",
      "\u001B[92m168: Guess: $13.41 Truth: $17.99 Error: $4.58 SLE: 0.08 Item: Chef's Star Stainles...\u001B[0m\n",
      "\u001B[92m169: Guess: $15.91 Truth: $19.99 Error: $4.08 SLE: 0.05 Item: Egg Container for Re...\u001B[0m\n",
      "\u001B[92m170: Guess: $21.64 Truth: $18.77 Error: $2.87 SLE: 0.02 Item: AMI PARTS Dryer Lint...\u001B[0m\n",
      "\u001B[92m171: Guess: $37.94 Truth: $47.86 Error: $9.92 SLE: 0.05 Item: GE Igniter for Gas B...\u001B[0m\n",
      "\u001B[92m172: Guess: $25.09 Truth: $34.45 Error: $9.36 SLE: 0.09 Item: General Electric Dry...\u001B[0m\n",
      "\u001B[92m173: Guess: $7.96 Truth: $7.99 Error: $0.03 SLE: 0.00 Item: 312959 Dryer Belt Re...\u001B[0m\n",
      "\u001B[92m174: Guess: $51.38 Truth: $27.99 Error: $23.39 SLE: 0.35 Item: 5-Pack Replacement E...\u001B[0m\n",
      "\u001B[93m175: Guess: $75.00 Truth: $117.99 Error: $42.99 SLE: 0.20 Item: OEM Samsung Refriger...\u001B[0m\n",
      "\u001B[91m176: Guess: $386.25 Truth: $989.99 Error: $603.74 SLE: 0.88 Item: vevor 24 Undercounte...\u001B[0m\n",
      "\u001B[92m177: Guess: $20.25 Truth: $18.99 Error: $1.26 SLE: 0.00 Item: Reusable Vertuo Caps...\u001B[0m\n",
      "\u001B[92m178: Guess: $140.25 Truth: $164.98 Error: $24.73 SLE: 0.03 Item: 32 x 30 2.5 Heavy Du...\u001B[0m\n",
      "\u001B[92m179: Guess: $18.66 Truth: $19.36 Error: $0.70 SLE: 0.00 Item: Fluidmaster 9WM60 No...\u001B[0m\n",
      "\u001B[92m180: Guess: $15.27 Truth: $16.00 Error: $0.73 SLE: 0.00 Item: AYZE Electric Restri...\u001B[0m\n",
      "\u001B[92m181: Guess: $27.31 Truth: $21.40 Error: $5.91 SLE: 0.05 Item: Whirlpool Door Handl...\u001B[0m\n",
      "\u001B[92m182: Guess: $27.00 Truth: $46.99 Error: $19.99 SLE: 0.29 Item: Upgraded Dryer Repai...\u001B[0m\n",
      "\u001B[92m183: Guess: $13.02 Truth: $13.69 Error: $0.67 SLE: 0.00 Item: Camco 00553 8 GE/Hot...\u001B[0m\n",
      "\u001B[92m184: Guess: $24.70 Truth: $22.72 Error: $1.98 SLE: 0.01 Item: GE Part Number KNOB ...\u001B[0m\n",
      "\u001B[92m185: Guess: $75.62 Truth: $105.13 Error: $29.50 SLE: 0.11 Item: Manitowoc Ice Curtai...\u001B[0m\n",
      "\u001B[92m186: Guess: $25.98 Truth: $32.50 Error: $6.52 SLE: 0.05 Item: Heating Element ( Re...\u001B[0m\n",
      "\u001B[93m187: Guess: $71.44 Truth: $114.60 Error: $43.16 SLE: 0.22 Item: Vulcan Hart Thermo\n",
      "P...\u001B[0m\n",
      "\u001B[92m188: Guess: $76.44 Truth: $84.96 Error: $8.52 SLE: 0.01 Item: Turbo Air Thermostat...\u001B[0m\n",
      "\u001B[92m189: Guess: $52.75 Truth: $83.40 Error: $30.65 SLE: 0.20 Item: Frigidaire Dispenser...\u001B[0m\n",
      "\u001B[92m190: Guess: $9.88 Truth: $9.99 Error: $0.12 SLE: 0.00 Item: Splutch Cam Kit Repl...\u001B[0m\n",
      "\u001B[92m191: Guess: $6.97 Truth: $9.49 Error: $2.52 SLE: 0.08 Item: newlifeapp Dryer The...\u001B[0m\n",
      "\u001B[92m192: Guess: $22.81 Truth: $29.99 Error: $7.18 SLE: 0.07 Item: Upgraded Dryer Rear ...\u001B[0m\n",
      "\u001B[92m193: Guess: $18.28 Truth: $13.57 Error: $4.71 SLE: 0.08 Item: 2 Pack Top Burner Sp...\u001B[0m\n",
      "\u001B[92m194: Guess: $19.09 Truth: $19.96 Error: $0.87 SLE: 0.00 Item: Washer Drain Pump Mo...\u001B[0m\n",
      "\u001B[92m195: Guess: $63.12 Truth: $56.99 Error: $6.13 SLE: 0.01 Item: New-Refrigerator Ice...\u001B[0m\n",
      "\u001B[92m196: Guess: $15.60 Truth: $16.37 Error: $0.77 SLE: 0.00 Item: Whirlpool Adjuster\n",
      "P...\u001B[0m\n",
      "\u001B[92m197: Guess: $19.20 Truth: $19.99 Error: $0.79 SLE: 0.00 Item: Nispira Replacement ...\u001B[0m\n",
      "\u001B[92m198: Guess: $30.69 Truth: $37.98 Error: $7.29 SLE: 0.04 Item: Mist Water Filter Re...\u001B[0m\n",
      "\u001B[92m199: Guess: $31.08 Truth: $34.79 Error: $3.71 SLE: 0.01 Item: UPGRADE Refrigerator...\u001B[0m\n",
      "\u001B[92m200: Guess: $9.19 Truth: $8.39 Error: $0.80 SLE: 0.01 Item: DPD Washer Lid Switc...\u001B[0m\n",
      "\u001B[92m201: Guess: $107.88 Truth: $117.86 Error: $9.98 SLE: 0.01 Item: GENUINE Frigidaire B...\u001B[0m\n",
      "\u001B[92m202: Guess: $11.55 Truth: $15.99 Error: $4.44 SLE: 0.09 Item: Anti Vibration Pads ...\u001B[0m\n",
      "\u001B[92m203: Guess: $13.02 Truth: $10.99 Error: $2.03 SLE: 0.02 Item: Dryer Drum Support R...\u001B[0m\n",
      "\u001B[92m204: Guess: $13.02 Truth: $24.43 Error: $11.41 SLE: 0.35 Item: Whirlpool 279816 Dry...\u001B[0m\n",
      "\u001B[92m205: Guess: $409.00 Truth: $426.98 Error: $17.98 SLE: 0.00 Item: Empava 36 500 CFM Is...\u001B[0m\n",
      "\u001B[92m206: Guess: $40.00 Truth: $39.99 Error: $0.01 SLE: 0.00 Item: SpiroPure NSF Certif...\u001B[0m\n",
      "\u001B[92m207: Guess: $25.00 Truth: $26.99 Error: $1.99 SLE: 0.01 Item: Replacement for Jenn...\u001B[0m\n",
      "\u001B[93m208: Guess: $92.88 Truth: $138.69 Error: $45.81 SLE: 0.16 Item: GE Genuine OEM Dampe...\u001B[0m\n",
      "\u001B[92m209: Guess: $9.23 Truth: $13.97 Error: $4.74 SLE: 0.14 Item: Dryer Thermal Fuse T...\u001B[0m\n",
      "\u001B[92m210: Guess: $22.45 Truth: $21.99 Error: $0.46 SLE: 0.00 Item: 2-Pack Replacement f...\u001B[0m\n",
      "\u001B[92m211: Guess: $23.95 Truth: $18.88 Error: $5.07 SLE: 0.05 Item: Terminal Block Assem...\u001B[0m\n",
      "\u001B[92m212: Guess: $30.91 Truth: $18.41 Error: $12.50 SLE: 0.25 Item: Whirlpool 308180 Bak...\u001B[0m\n",
      "\u001B[92m213: Guess: $9.61 Truth: $9.95 Error: $0.34 SLE: 0.00 Item: LG Sensor Kenmore Wa...\u001B[0m\n",
      "\u001B[92m214: Guess: $12.09 Truth: $18.00 Error: $5.91 SLE: 0.14 Item: Compatible Drum Belt...\u001B[0m\n",
      "\u001B[92m215: Guess: $28.00 Truth: $33.95 Error: $5.95 SLE: 0.03 Item: Whirlpool Dryer Liqu...\u001B[0m\n",
      "\u001B[92m216: Guess: $44.34 Truth: $42.95 Error: $1.39 SLE: 0.00 Item: MCGILL Replacement B...\u001B[0m\n",
      "\u001B[92m217: Guess: $55.59 Truth: $59.99 Error: $4.40 SLE: 0.01 Item: New Upgraded Refrige...\u001B[0m\n",
      "\u001B[92m218: Guess: $41.12 Truth: $55.58 Error: $14.45 SLE: 0.09 Item: TRUE 810719 Black Ga...\u001B[0m\n",
      "\u001B[92m219: Guess: $47.94 Truth: $15.10 Error: $32.84 SLE: 1.24 Item: LG Genuine OEM Drain...\u001B[0m\n",
      "\u001B[92m220: Guess: $48.06 Truth: $45.99 Error: $2.07 SLE: 0.00 Item: Waterspecialist Refr...\u001B[0m\n",
      "\u001B[92m221: Guess: $73.62 Truth: $60.14 Error: $13.48 SLE: 0.04 Item: GlobPro Washer Water...\u001B[0m\n",
      "\u001B[92m222: Guess: $34.94 Truth: $45.99 Error: $11.05 SLE: 0.07 Item: AQUA CREST 847200 Re...\u001B[0m\n",
      "\u001B[92m223: Guess: $25.22 Truth: $16.24 Error: $8.98 SLE: 0.18 Item: Frigidaire Frigidare...\u001B[0m\n",
      "\u001B[92m224: Guess: $22.02 Truth: $31.99 Error: $9.97 SLE: 0.13 Item: Supplying Demand Clo...\u001B[0m\n",
      "\u001B[92m225: Guess: $28.27 Truth: $34.00 Error: $5.73 SLE: 0.03 Item: Whole Parts Dryer Pu...\u001B[0m\n",
      "\u001B[92m226: Guess: $21.16 Truth: $26.99 Error: $5.83 SLE: 0.05 Item: i Cafillas Refillabl...\u001B[0m\n",
      "\u001B[92m227: Guess: $12.02 Truth: $15.39 Error: $3.37 SLE: 0.05 Item: Thermostat\n",
      "Brand new...\u001B[0m\n",
      "\u001B[92m228: Guess: $25.55 Truth: $27.77 Error: $2.22 SLE: 0.01 Item: Beaquicy Oven Bake E...\u001B[0m\n",
      "\u001B[92m229: Guess: $26.17 Truth: $26.08 Error: $0.09 SLE: 0.00 Item: Whirlpool 661570 Bel...\u001B[0m\n",
      "\u001B[92m230: Guess: $24.16 Truth: $18.99 Error: $5.17 SLE: 0.05 Item: iFillMug 33 Pack for...\u001B[0m\n",
      "\u001B[92m231: Guess: $120.19 Truth: $159.18 Error: $38.99 SLE: 0.08 Item: Frigidaire Freezer D...\u001B[0m\n",
      "\u001B[92m232: Guess: $16.72 Truth: $34.95 Error: $18.23 SLE: 0.50 Item: New York Air Airplan...\u001B[0m\n",
      "\u001B[92m233: Guess: $20.75 Truth: $25.19 Error: $4.44 SLE: 0.03 Item: Amazon Basics Replac...\u001B[0m\n",
      "\u001B[92m234: Guess: $10.02 Truth: $19.51 Error: $9.49 SLE: 0.39 Item: Upgraded Dishrack St...\u001B[0m\n",
      "\u001B[92m235: Guess: $37.19 Truth: $37.45 Error: $0.26 SLE: 0.00 Item: Sportman Pastoral St...\u001B[0m\n",
      "\u001B[92m236: Guess: $26.44 Truth: $29.99 Error: $3.55 SLE: 0.01 Item: Motor OEM Mania New ...\u001B[0m\n",
      "\u001B[92m237: Guess: $155.12 Truth: $163.56 Error: $8.44 SLE: 0.00 Item: Refrigerator Ice Mak...\u001B[0m\n",
      "\u001B[92m238: Guess: $19.12 Truth: $27.00 Error: $7.88 SLE: 0.11 Item: Appliance Slide for ...\u001B[0m\n",
      "\u001B[92m239: Guess: $5.87 Truth: $5.99 Error: $0.12 SLE: 0.00 Item: Lower Dishwasher Whe...\u001B[0m\n",
      "\u001B[92m240: Guess: $8.99 Truth: $6.64 Error: $2.35 SLE: 0.07 Item: Gas Female Cap ORIFI...\u001B[0m\n",
      "\u001B[92m241: Guess: $9.09 Truth: $26.04 Error: $16.95 SLE: 0.97 Item: 9pcs Silicon Rubber ...\u001B[0m\n",
      "\u001B[92m242: Guess: $12.00 Truth: $13.79 Error: $1.79 SLE: 0.02 Item: Supplying Demand Clo...\u001B[0m\n",
      "\u001B[92m243: Guess: $117.06 Truth: $78.98 Error: $38.08 SLE: 0.15 Item: General Electric Ref...\u001B[0m\n",
      "\u001B[92m244: Guess: $18.00 Truth: $27.99 Error: $9.99 SLE: 0.18 Item: i Cafilas New Lid St...\u001B[0m\n",
      "\u001B[92m245: Guess: $16.62 Truth: $14.99 Error: $1.63 SLE: 0.01 Item: GHM Humidifier Repla...\u001B[0m\n",
      "\u001B[93m246: Guess: $104.50 Truth: $50.25 Error: $54.25 SLE: 0.52 Item: Manitowoc Ice Water ...\u001B[0m\n",
      "\u001B[92m247: Guess: $90.94 Truth: $101.36 Error: $10.42 SLE: 0.01 Item: General Electric Doo...\u001B[0m\n",
      "\u001B[92m248: Guess: $10.33 Truth: $4.98 Error: $5.35 SLE: 0.41 Item: Kitchen Stove Gap Co...\u001B[0m\n",
      "\u001B[92m249: Guess: $7.91 Truth: $9.89 Error: $1.98 SLE: 0.04 Item: Washer & Dryer Lid S...\u001B[0m\n",
      "\u001B[92m250: Guess: $28.08 Truth: $27.99 Error: $0.09 SLE: 0.00 Item: Nispira Humidifier W...\u001B[0m\n"
     ]
    },
    {
     "data": {
      "text/plain": [
       "<Figure size 1200x800 with 1 Axes>"
      ],
      "image/png": "[encoded data removed]"
     },
     "metadata": {},
     "output_type": "display_data"
    }
   ],
   "execution_count": 19
  },
  {
   "cell_type": "code",
   "source": [],
   "metadata": {
    "id": "M4NSMcKl3Bhw"
   },
   "execution_count": null,
   "outputs": []
  }
 ]
}
